{
 "cells": [
  {
   "cell_type": "markdown",
   "metadata": {},
   "source": [
    "Install required packages"
   ]
  },
  {
   "cell_type": "code",
   "execution_count": null,
   "metadata": {},
   "outputs": [],
   "source": [
    "%pip install -q -r requirements.txt"
   ]
  },
  {
   "cell_type": "markdown",
   "metadata": {},
   "source": [
    "Import packages and show versions"
   ]
  },
  {
   "cell_type": "code",
   "execution_count": null,
   "metadata": {},
   "outputs": [],
   "source": [
    "import sys\n",
    "import numpy as np\n",
    "\n",
    "print(\"Python \", sys.version)\n",
    "print(\"Numpy \", np.__version__)"
   ]
  },
  {
   "cell_type": "markdown",
   "metadata": {},
   "source": [
    "Set up transformer\n",
    "\n",
    "\"SentenceTransformer\", is the SentenceTransformer class is part of the SentenceTransformers library, which is designed to simplify the process of generating semantically meaningful embeddings for sentences, paragraphs, or larger texts.\n",
    "\n",
    "\n",
    "_all-MiniLM-L6-v2_ is a MiniLM model fine tuned on a large dataset of over 1 billion training pairs"
   ]
  },
  {
   "cell_type": "code",
   "execution_count": 11,
   "metadata": {},
   "outputs": [],
   "source": [
    "from sentence_transformers import SentenceTransformer\n",
    "\n",
    "model = SentenceTransformer(\"all-MiniLM-L6-v2\")"
   ]
  },
  {
   "cell_type": "code",
   "execution_count": null,
   "metadata": {},
   "outputs": [
    {
     "name": "stdout",
     "output_type": "stream",
     "text": [
      "(4, 384)\n",
      "1536\n"
     ]
    }
   ],
   "source": [
    "sentences = [\n",
    "    \"We may brave human laws, but we cannot resist natural ones.\",\n",
    "    \"Imagine a society in which there were neither rich nor poor\",\n",
    "    \"If Providence has created the stars and the planets, man has called the cannonball into existence\",\n",
    "    \"The Yankees, the first mechanicians in the world, are engineers - just as the Italians are musicians and the Germans metaphysicians - by right of birth. Nothing is more natural, therefore, than to perceive them applying their audacious ingenuity to the science of gunnery.\",\n",
    "]\n",
    "embeddings = model.encode(sentences)\n",
    "print(embeddings.shape)\n",
    "\n",
    "print(embeddings.tolist())"
   ]
  },
  {
   "cell_type": "markdown",
   "metadata": {},
   "source": [
    "Next step,\n",
    "\n",
    "build query/vector search.\n",
    "\n",
    "mongodb vectorSearch, pipeline, match, group, sort and limit"
   ]
  }
 ],
 "metadata": {
  "kernelspec": {
   "display_name": ".venv",
   "language": "python",
   "name": "python3"
  },
  "language_info": {
   "codemirror_mode": {
    "name": "ipython",
    "version": 3
   },
   "file_extension": ".py",
   "mimetype": "text/x-python",
   "name": "python",
   "nbconvert_exporter": "python",
   "pygments_lexer": "ipython3",
   "version": "3.12.6"
  }
 },
 "nbformat": 4,
 "nbformat_minor": 2
}
