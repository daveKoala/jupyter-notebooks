{
 "cells": [
  {
   "cell_type": "code",
   "execution_count": 3,
   "metadata": {},
   "outputs": [
    {
     "name": "stdout",
     "output_type": "stream",
     "text": [
      "Requirement already satisfied: pip in ./.venv/lib/python3.12/site-packages (25.0.1)\n",
      "Note: you may need to restart the kernel to use updated packages.\n",
      "Note: you may need to restart the kernel to use updated packages.\n"
     ]
    }
   ],
   "source": [
    "%pip install --upgrade pip\n",
    "\n",
    "%pip install -q -r requirements.txt"
   ]
  },
  {
   "cell_type": "code",
   "execution_count": 1,
   "metadata": {},
   "outputs": [
    {
     "name": "stdout",
     "output_type": "stream",
     "text": [
      "Libraries loaded\n",
      "Pandas version: 2.2.3\n",
      "Numpy version: 2.2.4\n",
      "MatPlotLib 3.10.1\n"
     ]
    }
   ],
   "source": [
    "import pandas as pd\n",
    "import numpy as np\n",
    "import matplotlib.pyplot as plt\n",
    "\n",
    "print('Libraries loaded')\n",
    "print('Pandas version:', pd.__version__)\n",
    "print('Numpy version:', np.__version__)\n",
    "print(\"MatPlotLib\", plt.matplotlib.__version__)"
   ]
  },
  {
   "cell_type": "code",
   "execution_count": null,
   "metadata": {},
   "outputs": [],
   "source": [
    "file_path = \"./data/car_hire.csv\"\n",
    "df = pd.read_csv(file_path)\n",
    "\n",
    "# d.head(5)\n",
    "# d.info()\n",
    "\n",
    "# d.describe()"
   ]
  },
  {
   "cell_type": "code",
   "execution_count": null,
   "metadata": {},
   "outputs": [
    {
     "name": "stdout",
     "output_type": "stream",
     "text": [
      "    Expiration Year Expiration Month  Count\n",
      "0              2024           August   2006\n",
      "1              2024         December   5024\n",
      "2              2024             July    235\n",
      "3              2024         November   4449\n",
      "4              2024          October   4813\n",
      "5              2024        September   3246\n",
      "6              2025            April   4423\n",
      "7              2025           August   4045\n",
      "8              2025         December   5991\n",
      "9              2025         February   2990\n",
      "10             2025          January   3696\n",
      "11             2025             July   4264\n",
      "12             2025             June   4792\n",
      "13             2025            March   4198\n",
      "14             2025              May   4465\n",
      "15             2025         November   3950\n",
      "16             2025          October   4215\n",
      "17             2025        September   3756\n",
      "18             2026            April   4670\n",
      "19             2026           August   2531\n",
      "20             2026         February   5021\n",
      "21             2026          January   8450\n",
      "22             2026             July   3298\n",
      "23             2026             June   3968\n",
      "24             2026            March   4994\n",
      "25             2026              May   4363\n",
      "26             2026          October     84\n",
      "27             2026        September   1034\n",
      "28             2027            April      1\n",
      "29             2027            March      2\n"
     ]
    }
   ],
   "source": [
    "# Convert the 'Expiration Date' column to datetime format\n",
    "df[\"Expiration Date\"] = pd.to_datetime(df[\"Expiration Date\"], errors=\"coerce\")\n",
    "\n",
    "# Filter out rows with invalid or missing expiration dates\n",
    "filtered_df = df[df[\"Expiration Date\"].notnull()]\n",
    "\n",
    "# Extract year and month from expiration date\n",
    "filtered_df[\"Expiration Year\"] = filtered_df[\"Expiration Date\"].dt.year\n",
    "filtered_df[\"Expiration Month\"] = filtered_df[\"Expiration Date\"].dt.month_name()\n",
    "\n",
    "# Group by year and month to get a count of expiring licenses\n",
    "expiration_breakdown = (\n",
    "    filtered_df.groupby([\"Expiration Year\", \"Expiration Month\"])\n",
    "    .size()\n",
    "    .reset_index(name=\"Count\")\n",
    ")\n",
    "\n",
    "# Display the result\n",
    "print(expiration_breakdown)"
   ]
  }
 ],
 "metadata": {
  "kernelspec": {
   "display_name": ".venv",
   "language": "python",
   "name": "python3"
  },
  "language_info": {
   "codemirror_mode": {
    "name": "ipython",
    "version": 3
   },
   "file_extension": ".py",
   "mimetype": "text/x-python",
   "name": "python",
   "nbconvert_exporter": "python",
   "pygments_lexer": "ipython3",
   "version": "3.12.6"
  }
 },
 "nbformat": 4,
 "nbformat_minor": 2
}
