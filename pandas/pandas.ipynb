{
 "cells": [
  {
   "cell_type": "code",
   "execution_count": 3,
   "metadata": {},
   "outputs": [
    {
     "name": "stdout",
     "output_type": "stream",
     "text": [
      "Requirement already satisfied: pip in ./.venv/lib/python3.12/site-packages (25.0.1)\n",
      "Note: you may need to restart the kernel to use updated packages.\n",
      "Note: you may need to restart the kernel to use updated packages.\n"
     ]
    }
   ],
   "source": [
    "%pip install --upgrade pip\n",
    "\n",
    "%pip install -q -r requirements.txt"
   ]
  },
  {
   "cell_type": "code",
   "execution_count": 1,
   "metadata": {},
   "outputs": [
    {
     "name": "stdout",
     "output_type": "stream",
     "text": [
      "Libraries loaded\n",
      "Pandas version: 2.2.3\n",
      "Numpy version: 2.2.4\n",
      "MatPlotLib 3.10.1\n"
     ]
    }
   ],
   "source": [
    "import pandas as pd\n",
    "import numpy as np\n",
    "import matplotlib.pyplot as plt\n",
    "\n",
    "print('Libraries loaded')\n",
    "print('Pandas version:', pd.__version__)\n",
    "print('Numpy version:', np.__version__)\n",
    "print(\"MatPlotLib\", plt.matplotlib.__version__)"
   ]
  },
  {
   "cell_type": "code",
   "execution_count": null,
   "metadata": {},
   "outputs": [],
   "source": [
    "file_path = \"./data/car_hire.csv\"\n",
    "df = pd.read_csv(file_path)\n",
    "\n",
    "# d.head(5)\n",
    "# d.info()\n",
    "\n",
    "# d.describe()"
   ]
  },
  {
   "cell_type": "code",
   "execution_count": 10,
   "metadata": {},
   "outputs": [
    {
     "data": {
      "text/plain": [
       "(108974, 23)"
      ]
     },
     "execution_count": 10,
     "metadata": {},
     "output_type": "execute_result"
    }
   ],
   "source": [
    "# How many rows and columns are in the dataset?\n",
    "df.shape"
   ]
  },
  {
   "cell_type": "code",
   "execution_count": 11,
   "metadata": {},
   "outputs": [
    {
     "data": {
      "text/plain": [
       "array(['FOR HIRE VEHICLE'], dtype=object)"
      ]
     },
     "execution_count": 11,
     "metadata": {},
     "output_type": "execute_result"
    }
   ],
   "source": [
    "# What are the unique values in the License Type column?\n",
    "\n",
    "df['License Type'].unique()"
   ]
  },
  {
   "cell_type": "code",
   "execution_count": 16,
   "metadata": {},
   "outputs": [
    {
     "data": {
      "text/plain": [
       "np.int64(105038)"
      ]
     },
     "execution_count": 16,
     "metadata": {},
     "output_type": "execute_result"
    }
   ],
   "source": [
    "# How many rows have missing (NaN) values in the Certification Date column?\n",
    "df['Certification Date'].isna().sum()\n",
    "\n",
    "# Output is 'np.int64' just means it's stored as a NumPy 64-bit integer — but the value is still 105038 in decimal form"
   ]
  },
  {
   "cell_type": "code",
   "execution_count": 15,
   "metadata": {},
   "outputs": [
    {
     "name": "stdout",
     "output_type": "stream",
     "text": [
      "    Expiration Year Expiration Month  Count\n",
      "0              2024           August   2006\n",
      "1              2024         December   5024\n",
      "2              2024             July    235\n",
      "3              2024         November   4449\n",
      "4              2024          October   4813\n",
      "5              2024        September   3246\n",
      "6              2025            April   4423\n",
      "7              2025           August   4045\n",
      "8              2025         December   5991\n",
      "9              2025         February   2990\n",
      "10             2025          January   3696\n",
      "11             2025             July   4264\n",
      "12             2025             June   4792\n",
      "13             2025            March   4198\n",
      "14             2025              May   4465\n",
      "15             2025         November   3950\n",
      "16             2025          October   4215\n",
      "17             2025        September   3756\n",
      "18             2026            April   4670\n",
      "19             2026           August   2531\n",
      "20             2026         February   5021\n",
      "21             2026          January   8450\n",
      "22             2026             July   3298\n",
      "23             2026             June   3968\n",
      "24             2026            March   4994\n",
      "25             2026              May   4363\n",
      "26             2026          October     84\n",
      "27             2026        September   1034\n",
      "28             2027            April      1\n",
      "29             2027            March      2\n"
     ]
    }
   ],
   "source": [
    "# Convert the 'Expiration Date' column to datetime format\n",
    "df[\"Expiration Date\"] = pd.to_datetime(df[\"Expiration Date\"], errors=\"coerce\")\n",
    "\n",
    "# Filter out rows with invalid or missing expiration dates\n",
    "filtered_df = df[df[\"Expiration Date\"].notnull()]\n",
    "\n",
    "# Extract year and month from expiration date\n",
    "filtered_df[\"Expiration Year\"] = filtered_df[\"Expiration Date\"].dt.year\n",
    "filtered_df[\"Expiration Month\"] = filtered_df[\"Expiration Date\"].dt.month_name()\n",
    "\n",
    "# Group by year and month to get a count of expiring licenses\n",
    "expiration_breakdown = (\n",
    "    filtered_df.groupby([\"Expiration Year\", \"Expiration Month\"])\n",
    "    .size()\n",
    "    .reset_index(name=\"Count\")\n",
    ")\n",
    "\n",
    "# Display the result\n",
    "print(expiration_breakdown)"
   ]
  },
  {
   "cell_type": "code",
   "execution_count": 19,
   "metadata": {},
   "outputs": [
    {
     "data": {
      "text/html": [
       "<div>\n",
       "<style scoped>\n",
       "    .dataframe tbody tr th:only-of-type {\n",
       "        vertical-align: middle;\n",
       "    }\n",
       "\n",
       "    .dataframe tbody tr th {\n",
       "        vertical-align: top;\n",
       "    }\n",
       "\n",
       "    .dataframe thead th {\n",
       "        text-align: right;\n",
       "    }\n",
       "</style>\n",
       "<table border=\"1\" class=\"dataframe\">\n",
       "  <thead>\n",
       "    <tr style=\"text-align: right;\">\n",
       "      <th></th>\n",
       "      <th>Active</th>\n",
       "      <th>Vehicle License Number</th>\n",
       "      <th>Name</th>\n",
       "      <th>License Type</th>\n",
       "      <th>Expiration Date</th>\n",
       "      <th>Permit License Number</th>\n",
       "      <th>DMV License Plate Number</th>\n",
       "      <th>Vehicle VIN Number</th>\n",
       "      <th>Wheelchair Accessible</th>\n",
       "      <th>Certification Date</th>\n",
       "      <th>...</th>\n",
       "      <th>Base Name</th>\n",
       "      <th>Base Type</th>\n",
       "      <th>VEH</th>\n",
       "      <th>Base Telephone Number</th>\n",
       "      <th>Website</th>\n",
       "      <th>Base Address</th>\n",
       "      <th>Reason</th>\n",
       "      <th>Order Date</th>\n",
       "      <th>Last Date Updated</th>\n",
       "      <th>Last Time Updated</th>\n",
       "    </tr>\n",
       "  </thead>\n",
       "  <tbody>\n",
       "    <tr>\n",
       "      <th>0</th>\n",
       "      <td>YES</td>\n",
       "      <td>5341911</td>\n",
       "      <td>KM,LIMO,SERVICE,INC</td>\n",
       "      <td>FOR HIRE VEHICLE</td>\n",
       "      <td>2025-08-24</td>\n",
       "      <td>NaN</td>\n",
       "      <td>T101517C</td>\n",
       "      <td>4T1B11HKXKU169905</td>\n",
       "      <td>NaN</td>\n",
       "      <td>NaN</td>\n",
       "      <td>...</td>\n",
       "      <td>SDR TRANSPORTATION CORP.</td>\n",
       "      <td>BLACK-CAR</td>\n",
       "      <td>NaN</td>\n",
       "      <td>(718)863-0002</td>\n",
       "      <td>NaN</td>\n",
       "      <td>3800 EAST TREMONT AVENUE #2 BRONX NY 10465</td>\n",
       "      <td>G</td>\n",
       "      <td>NaN</td>\n",
       "      <td>07/21/2024</td>\n",
       "      <td>13:25</td>\n",
       "    </tr>\n",
       "    <tr>\n",
       "      <th>1</th>\n",
       "      <td>YES</td>\n",
       "      <td>5632081</td>\n",
       "      <td>VENTURE LEASING LLC</td>\n",
       "      <td>FOR HIRE VEHICLE</td>\n",
       "      <td>2025-08-14</td>\n",
       "      <td>NaN</td>\n",
       "      <td>T745292C</td>\n",
       "      <td>4T1G11AK5MU569485</td>\n",
       "      <td>NaN</td>\n",
       "      <td>NaN</td>\n",
       "      <td>...</td>\n",
       "      <td>UBER USA, LLC</td>\n",
       "      <td>BLACK-CAR</td>\n",
       "      <td>NaN</td>\n",
       "      <td>(646)780-0129</td>\n",
       "      <td>NaN</td>\n",
       "      <td>1515 THIRD STREET SAN FRANCISCO CA 94158</td>\n",
       "      <td>G</td>\n",
       "      <td>NaN</td>\n",
       "      <td>07/21/2024</td>\n",
       "      <td>13:25</td>\n",
       "    </tr>\n",
       "    <tr>\n",
       "      <th>4</th>\n",
       "      <td>YES</td>\n",
       "      <td>5775002</td>\n",
       "      <td>RIGO,LIMO-AUTO,CORP</td>\n",
       "      <td>FOR HIRE VEHICLE</td>\n",
       "      <td>2025-04-12</td>\n",
       "      <td>NaN</td>\n",
       "      <td>T724802C</td>\n",
       "      <td>3GNAXJEG5PL255260</td>\n",
       "      <td>NaN</td>\n",
       "      <td>NaN</td>\n",
       "      <td>...</td>\n",
       "      <td>UBER USA, LLC</td>\n",
       "      <td>BLACK-CAR</td>\n",
       "      <td>NaN</td>\n",
       "      <td>(646)780-0129</td>\n",
       "      <td>NaN</td>\n",
       "      <td>1515 THIRD STREET SAN FRANCISCO CA 94158</td>\n",
       "      <td>G</td>\n",
       "      <td>NaN</td>\n",
       "      <td>07/21/2024</td>\n",
       "      <td>13:25</td>\n",
       "    </tr>\n",
       "    <tr>\n",
       "      <th>6</th>\n",
       "      <td>YES</td>\n",
       "      <td>6042324</td>\n",
       "      <td>DAVITCARE CORP</td>\n",
       "      <td>FOR HIRE VEHICLE</td>\n",
       "      <td>2025-10-02</td>\n",
       "      <td>NaN</td>\n",
       "      <td>T122085C</td>\n",
       "      <td>NM0GE9E20N1535083</td>\n",
       "      <td>WAV</td>\n",
       "      <td>NaN</td>\n",
       "      <td>...</td>\n",
       "      <td>UBER USA, LLC</td>\n",
       "      <td>BLACK-CAR</td>\n",
       "      <td>WAV</td>\n",
       "      <td>(646)780-0129</td>\n",
       "      <td>NaN</td>\n",
       "      <td>1515 THIRD STREET SAN FRANCISCO CA 94158</td>\n",
       "      <td>G</td>\n",
       "      <td>NaN</td>\n",
       "      <td>07/21/2024</td>\n",
       "      <td>13:25</td>\n",
       "    </tr>\n",
       "    <tr>\n",
       "      <th>8</th>\n",
       "      <td>YES</td>\n",
       "      <td>5976951</td>\n",
       "      <td>NUNEZ,SANDY,M</td>\n",
       "      <td>FOR HIRE VEHICLE</td>\n",
       "      <td>2025-08-13</td>\n",
       "      <td>NaN</td>\n",
       "      <td>T799937C</td>\n",
       "      <td>4T1BF1FKXGU130971</td>\n",
       "      <td>NaN</td>\n",
       "      <td>NaN</td>\n",
       "      <td>...</td>\n",
       "      <td>ABSOLUTE CAR SERVICE CORP.</td>\n",
       "      <td>BLACK-CAR</td>\n",
       "      <td>NaN</td>\n",
       "      <td>(718)792-9222</td>\n",
       "      <td>NaN</td>\n",
       "      <td>729 BURKE AVENUE SUITE - A BRONX NY 10467</td>\n",
       "      <td>G</td>\n",
       "      <td>NaN</td>\n",
       "      <td>07/21/2024</td>\n",
       "      <td>13:25</td>\n",
       "    </tr>\n",
       "  </tbody>\n",
       "</table>\n",
       "<p>5 rows × 23 columns</p>\n",
       "</div>"
      ],
      "text/plain": [
       "  Active Vehicle License Number                 Name      License Type  \\\n",
       "0    YES                5341911  KM,LIMO,SERVICE,INC  FOR HIRE VEHICLE   \n",
       "1    YES                5632081  VENTURE LEASING LLC  FOR HIRE VEHICLE   \n",
       "4    YES                5775002  RIGO,LIMO-AUTO,CORP  FOR HIRE VEHICLE   \n",
       "6    YES                6042324       DAVITCARE CORP  FOR HIRE VEHICLE   \n",
       "8    YES                5976951        NUNEZ,SANDY,M  FOR HIRE VEHICLE   \n",
       "\n",
       "  Expiration Date Permit License Number DMV License Plate Number  \\\n",
       "0      2025-08-24                   NaN                 T101517C   \n",
       "1      2025-08-14                   NaN                 T745292C   \n",
       "4      2025-04-12                   NaN                 T724802C   \n",
       "6      2025-10-02                   NaN                 T122085C   \n",
       "8      2025-08-13                   NaN                 T799937C   \n",
       "\n",
       "  Vehicle VIN Number Wheelchair Accessible Certification Date  ...  \\\n",
       "0  4T1B11HKXKU169905                   NaN                NaN  ...   \n",
       "1  4T1G11AK5MU569485                   NaN                NaN  ...   \n",
       "4  3GNAXJEG5PL255260                   NaN                NaN  ...   \n",
       "6  NM0GE9E20N1535083                   WAV                NaN  ...   \n",
       "8  4T1BF1FKXGU130971                   NaN                NaN  ...   \n",
       "\n",
       "                    Base Name  Base Type  VEH Base Telephone Number Website  \\\n",
       "0    SDR TRANSPORTATION CORP.  BLACK-CAR  NaN         (718)863-0002     NaN   \n",
       "1               UBER USA, LLC  BLACK-CAR  NaN         (646)780-0129     NaN   \n",
       "4               UBER USA, LLC  BLACK-CAR  NaN         (646)780-0129     NaN   \n",
       "6               UBER USA, LLC  BLACK-CAR  WAV         (646)780-0129     NaN   \n",
       "8  ABSOLUTE CAR SERVICE CORP.  BLACK-CAR  NaN         (718)792-9222     NaN   \n",
       "\n",
       "                                 Base Address Reason Order Date  \\\n",
       "0  3800 EAST TREMONT AVENUE #2 BRONX NY 10465      G        NaN   \n",
       "1    1515 THIRD STREET SAN FRANCISCO CA 94158      G        NaN   \n",
       "4    1515 THIRD STREET SAN FRANCISCO CA 94158      G        NaN   \n",
       "6    1515 THIRD STREET SAN FRANCISCO CA 94158      G        NaN   \n",
       "8   729 BURKE AVENUE SUITE - A BRONX NY 10467      G        NaN   \n",
       "\n",
       "  Last Date Updated Last Time Updated  \n",
       "0        07/21/2024             13:25  \n",
       "1        07/21/2024             13:25  \n",
       "4        07/21/2024             13:25  \n",
       "6        07/21/2024             13:25  \n",
       "8        07/21/2024             13:25  \n",
       "\n",
       "[5 rows x 23 columns]"
      ]
     },
     "execution_count": 19,
     "metadata": {},
     "output_type": "execute_result"
    }
   ],
   "source": [
    "result = df[\n",
    "    (df[\"Expiration Date\"].notnull()) & (df[\"Expiration Date\"].dt.year == 2025)\n",
    "    ]\n",
    "\n",
    "result.head(5)"
   ]
  }
 ],
 "metadata": {
  "kernelspec": {
   "display_name": ".venv",
   "language": "python",
   "name": "python3"
  },
  "language_info": {
   "codemirror_mode": {
    "name": "ipython",
    "version": 3
   },
   "file_extension": ".py",
   "mimetype": "text/x-python",
   "name": "python",
   "nbconvert_exporter": "python",
   "pygments_lexer": "ipython3",
   "version": "3.12.6"
  }
 },
 "nbformat": 4,
 "nbformat_minor": 2
}
