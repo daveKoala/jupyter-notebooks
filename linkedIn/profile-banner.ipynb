{
 "cells": [
  {
   "cell_type": "code",
   "execution_count": 44,
   "metadata": {},
   "outputs": [],
   "source": [
    "import numpy as np\n",
    "import matplotlib.pyplot as plt\n",
    "from matplotlib.font_manager import FontProperties\n",
    "import os"
   ]
  },
  {
   "cell_type": "code",
   "execution_count": null,
   "metadata": {},
   "outputs": [],
   "source": [
    "# Line 1\n",
    "line1 = \"David Clare\"\n",
    "# Set dimensions for a LinkedIn banner background (width x height in pixels)\n",
    "width, height = 1584, 396\n",
    "\n",
    "# Create horizontal gradient from dark blue to light blue.\n",
    "dark_blue = np.array([0 / 255, 51 / 255, 102 / 255])\n",
    "light_blue = np.array([173 / 255, 216 / 255, 230 / 255])\n",
    "\n",
    "font_props = FontProperties()\n",
    "font_props.set_family(\"sans-serif\")\n",
    "font_props.set_name(\"Arial\")  # Alternatively, use set_family() if that's preferred\n",
    "font_props.set_size(14)\n",
    "font_props.set_weight(\"bold\")\n"
   ]
  },
  {
   "cell_type": "code",
   "execution_count": 46,
   "metadata": {},
   "outputs": [
    {
     "data": {
      "text/plain": [
       "(np.float64(-0.5), np.float64(1583.5), np.float64(395.5), np.float64(-0.5))"
      ]
     },
     "execution_count": 46,
     "metadata": {},
     "output_type": "execute_result"
    },
    {
     "data": {
      "image/png": "[encoded data removed]",
      "text/plain": [
       "<Figure size 1584x396 with 1 Axes>"
      ]
     },
     "metadata": {},
     "output_type": "display_data"
    }
   ],
   "source": [
    "x = np.linspace(0, 1, width)\n",
    "gradient = np.tile(x, (height, 1))\n",
    "\n",
    "gradient_rgb = np.zeros((height, width, 3))\n",
    "for i in range(3):\n",
    "    gradient_rgb[:, :, i] = dark_blue[i] + (light_blue[i] - dark_blue[i]) * gradient\n",
    "\n",
    "fig, ax = plt.subplots(figsize=(15.84, 3.96), dpi=100)\n",
    "ax.imshow(gradient_rgb, aspect=\"auto\")\n",
    "ax.axis(\"off\")"
   ]
  },
  {
   "cell_type": "code",
   "execution_count": 47,
   "metadata": {},
   "outputs": [
    {
     "data": {
      "text/plain": [
       "<matplotlib.patches.Circle at 0x10caa80b0>"
      ]
     },
     "execution_count": 47,
     "metadata": {},
     "output_type": "execute_result"
    }
   ],
   "source": [
    "# Add abstract transparent circles\n",
    "circle1 = plt.Circle(\n",
    "    (width * 0.3, height * 0.5), 70, color=(1, 1, 1, 0.15), linewidth=0\n",
    ")\n",
    "circle2 = plt.Circle(\n",
    "    (width * 0.7, height * 0.5), 90, color=(1, 1, 1, 0.15), linewidth=0\n",
    ")\n",
    "ax.add_artist(circle1)\n",
    "ax.add_artist(circle2)"
   ]
  },
  {
   "cell_type": "code",
   "execution_count": null,
   "metadata": {},
   "outputs": [
    {
     "data": {
      "text/plain": [
       "Text(0.98, 0.5, 'David Clare')"
      ]
     },
     "execution_count": 48,
     "metadata": {},
     "output_type": "execute_result"
    }
   ],
   "source": [
    "ax.text(\n",
    "    0.98,\n",
    "    0.5,\n",
    "    line1,\n",
    "    transform=ax.transAxes,  # Use relative coordinates (0 to 1)\n",
    "    ha=\"right\",  # Right align horizontally\n",
    "    va=\"center\",  # Center vertically\n",
    "    fontproperties=font_props,\n",
    "    color=\"white\",\n",
    ")"
   ]
  },
  {
   "cell_type": "code",
   "execution_count": 49,
   "metadata": {},
   "outputs": [
    {
     "data": {
      "text/plain": [
       "<Figure size 640x480 with 0 Axes>"
      ]
     },
     "metadata": {},
     "output_type": "display_data"
    }
   ],
   "source": [
    "plt.subplots_adjust(left=0, right=1, top=1, bottom=0)"
   ]
  },
  {
   "cell_type": "code",
   "execution_count": 50,
   "metadata": {},
   "outputs": [],
   "source": [
    "# Save the figure using the figure object's savefig method\n",
    "fig.savefig(\"linkedin_banner.png\", bbox_inches=\"tight\", pad_inches=0)\n",
    "plt.close(fig)"
   ]
  },
  {
   "cell_type": "code",
   "execution_count": 51,
   "metadata": {},
   "outputs": [
    {
     "name": "stdout",
     "output_type": "stream",
     "text": [
      "File saved in: /Users/davidclare/Projects/jupyter-notebooks/linkedIn\n"
     ]
    }
   ],
   "source": [
    "# Verify file location\n",
    "print(\"File saved in:\", os.getcwd())"
   ]
  }
 ],
 "metadata": {
  "kernelspec": {
   "display_name": ".venv",
   "language": "python",
   "name": "python3"
  },
  "language_info": {
   "codemirror_mode": {
    "name": "ipython",
    "version": 3
   },
   "file_extension": ".py",
   "mimetype": "text/x-python",
   "name": "python",
   "nbconvert_exporter": "python",
   "pygments_lexer": "ipython3",
   "version": "3.12.8"
  }
 },
 "nbformat": 4,
 "nbformat_minor": 2
}
